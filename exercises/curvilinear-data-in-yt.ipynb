{
 "cells": [
  {
   "cell_type": "markdown",
   "metadata": {},
   "source": [
    "# Loading Arbitrary Curvilinear Data into yt\n",
    "\n",
    "In this tutorial, we will use yt to perform some simple visualization tasks with curvilinear data. Make sure you have yt installed for this tutorial. If you don't, you can install it by following the instructions in the `installing-yt` notebook.\n",
    "\n",
    "First, let's load the relevant libraries..."
   ]
  },
  {
   "cell_type": "code",
   "execution_count": null,
   "metadata": {},
   "outputs": [],
   "source": [
    "import sys\n",
    "sys.path.append('.local/lib/python3.5/site-packages')"
   ]
  },
  {
   "cell_type": "code",
   "execution_count": null,
   "metadata": {},
   "outputs": [],
   "source": [
    "%matplotlib inline\n",
    "import h5py\n",
    "import numpy as np\n",
    "import yt"
   ]
  },
  {
   "cell_type": "markdown",
   "metadata": {},
   "source": [
    "We will use the same accretion disk GRMHD simulation as we did in a previous tutorial. Let's load it in just as we did before."
   ]
  },
  {
   "cell_type": "code",
   "execution_count": null,
   "metadata": {},
   "outputs": [],
   "source": [
    "grid = {}\n",
    "with h5py.File('harmdisk2d/grid.h5','r') as f:\n",
    "    for k,v in f.items():\n",
    "        grid[k] = v.value\n",
    "data = {}\n",
    "with h5py.File('harmdisk2d/data.h5','r') as f:\n",
    "    for k,v in f.items():\n",
    "        data[k] = v.value"
   ]
  },
  {
   "cell_type": "markdown",
   "metadata": {},
   "source": [
    "If your data is evenly spaced, you can load it via the `load_uniform_grid` method:"
   ]
  },
  {
   "cell_type": "code",
   "execution_count": null,
   "metadata": {},
   "outputs": [],
   "source": [
    "help(yt.load_uniform_grid)"
   ]
  },
  {
   "cell_type": "markdown",
   "metadata": {},
   "source": [
    "Unfortunately, our data is logarithmic in radius, so instead we will use the `load_hexahedral_mesh` method, which loads sime-structured grid data. The expectation for this method is that the data is of Cartesian product topology."
   ]
  },
  {
   "cell_type": "code",
   "execution_count": null,
   "metadata": {},
   "outputs": [],
   "source": [
    "help(yt.load_hexahedral_mesh)"
   ]
  },
  {
   "cell_type": "markdown",
   "metadata": {},
   "source": [
    "We'll use the helper function `hexahedral_connectivity` to tell `yt` how the grid points are connected to each other:"
   ]
  },
  {
   "cell_type": "code",
   "execution_count": null,
   "metadata": {},
   "outputs": [],
   "source": [
    "help(yt.hexahedral_connectivity)"
   ]
  },
  {
   "cell_type": "markdown",
   "metadata": {},
   "source": [
    "First, we extract the 1d list of cell centers"
   ]
  },
  {
   "cell_type": "code",
   "execution_count": null,
   "metadata": {},
   "outputs": [],
   "source": [
    "r = grid['Xbl'][:,0,0,1]*data['L_unit'][0]\n",
    "theta = grid['Xbl'][0,:,0,2]\n",
    "phi = grid['Xbl'][0,0,:,3]"
   ]
  },
  {
   "cell_type": "markdown",
   "metadata": {},
   "source": [
    "The hexahedral mesh code actually wants cell faces, though. So we need to extract these. We can do so by finding `dx`."
   ]
  },
  {
   "cell_type": "code",
   "execution_count": null,
   "metadata": {},
   "outputs": [],
   "source": [
    "# r\n",
    "dr = r[1]-r[0],r[-1]-r[-2]\n",
    "rf = np.empty(len(r)+1)\n",
    "rf[:-1] = r - dr[0]/2.\n",
    "rf[-1] = rf[-2] + dr[1]\n",
    "# theta\n",
    "dth = theta[1]-theta[0],theta[-1]-theta[-2]\n",
    "thf = np.empty(len(theta)+1)\n",
    "thf[:-1] = theta - dth[0]/2.\n",
    "thf[-1] = thf[-2] + dth[1]\n",
    "# phi is special. It's only one zone and we know what the faces are\n",
    "phif = np.array([0,2*np.pi])"
   ]
  },
  {
   "cell_type": "markdown",
   "metadata": {},
   "source": [
    "Now we can generate the `coords` and `conn` data structures which tell us how grid vertices are connected to each other"
   ]
  },
  {
   "cell_type": "code",
   "execution_count": null,
   "metadata": {},
   "outputs": [],
   "source": [
    "coords,conn = yt.hexahedral_connectivity(rf,thf,phif)\n",
    "\n",
    "rf[-2]"
   ]
  },
  {
   "cell_type": "markdown",
   "metadata": {},
   "source": [
    "And now we can load our data into yt"
   ]
  },
  {
   "cell_type": "code",
   "execution_count": null,
   "metadata": {},
   "outputs": [],
   "source": [
    "arr_data = {'pressure':np.abs(data['PRESS'])*data['U_unit'] + 1e12, # to prevent underflow\n",
    "            'entropy':data['ENT']}\n",
    "bbox = np.array([[rf.min(),rf.max()],\n",
    "                 [thf.min(),thf.max()],\n",
    "                 [phif.min(),phif.max()]])\n",
    "periodicity=[False,False,True]\n",
    "\n",
    "ds = yt.load_hexahedral_mesh(arr_data,conn,coords,\n",
    "                             #length_unit=data['L_unit'][0],\n",
    "                             bbox=bbox,\n",
    "                             periodicity=periodicity,\n",
    "                             geometry='spherical')"
   ]
  },
  {
   "cell_type": "markdown",
   "metadata": {},
   "source": [
    "By jumping through these few small hoops, we've enabled the ability to do some cool analysis tricks. For example, we can plot our data in spherical coordinates, which you may recall was an earlier exercise."
   ]
  },
  {
   "cell_type": "code",
   "execution_count": null,
   "metadata": {},
   "outputs": [],
   "source": [
    "slc = yt.SlicePlot(ds,'phi','pressure')\n",
    "slc.save('../figures/harmdisk-xz-slice.pdf')\n",
    "slc.show()"
   ]
  },
  {
   "cell_type": "markdown",
   "metadata": {},
   "source": [
    "### Exercise:\n",
    "\n",
    "Explore what data you can plot with yt using curvilinear coordinates. What works? What doesn't?"
   ]
  },
  {
   "cell_type": "code",
   "execution_count": null,
   "metadata": {},
   "outputs": [],
   "source": []
  }
 ],
 "metadata": {
  "kernelspec": {
   "display_name": "Python 3",
   "language": "python",
   "name": "python3"
  },
  "language_info": {
   "codemirror_mode": {
    "name": "ipython",
    "version": 3
   },
   "file_extension": ".py",
   "mimetype": "text/x-python",
   "name": "python",
   "nbconvert_exporter": "python",
   "pygments_lexer": "ipython3",
   "version": "3.6.4"
  }
 },
 "nbformat": 4,
 "nbformat_minor": 2
}
