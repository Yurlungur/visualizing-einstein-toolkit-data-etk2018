{
 "cells": [
  {
   "cell_type": "markdown",
   "metadata": {},
   "source": [
    "# Installing yt\n",
    "\n",
    "Here we show you how to install yt. yt is a visualization tool that can be used out-of-the-box for visualizing and analyzing simulation output. It's a python package and installing it is as simple as using pip:"
   ]
  },
  {
   "cell_type": "code",
   "execution_count": null,
   "metadata": {},
   "outputs": [],
   "source": [
    "!pip install yt --user"
   ]
  },
  {
   "cell_type": "markdown",
   "metadata": {},
   "source": [
    "Once it's installed, we have to ensure it's added to our path"
   ]
  },
  {
   "cell_type": "code",
   "execution_count": null,
   "metadata": {},
   "outputs": [],
   "source": [
    "import sys\n",
    "sys.path.append('.local/lib/python3.5/site-packages')"
   ]
  },
  {
   "cell_type": "markdown",
   "metadata": {},
   "source": [
    "Now we can import it. We also tell jupyter to display yt plots inline with the little piece of magic\n",
    "```\n",
    "%matplotlib inline\n",
    "```"
   ]
  },
  {
   "cell_type": "code",
   "execution_count": null,
   "metadata": {},
   "outputs": [],
   "source": [
    "%matplotlib inline\n",
    "import yt\n",
    "import numpy as np"
   ]
  },
  {
   "cell_type": "markdown",
   "metadata": {},
   "source": [
    "Let's check that it all works by importing some random numbers into an AMR hierarchy."
   ]
  },
  {
   "cell_type": "code",
   "execution_count": null,
   "metadata": {},
   "outputs": [],
   "source": [
    "grid_data = [None,None]\n",
    "grid_data[0] = dict(left_edge=[0.0, 0.0, 0.0],\n",
    "                    right_edge=[1.0, 1.0, 1.0],\n",
    "                    level=0,\n",
    "                    dimensions=[32, 32, 32])\n",
    "grid_data[1] = dict(left_edge=[0.25, 0.25, 0.25],\n",
    "                    right_edge=[0.75, 0.75, 0.75],\n",
    "                    level=1,\n",
    "                    dimensions=[32, 32, 32])\n",
    "\n",
    "for g in grid_data:\n",
    "    g[\"density\"] = np.random.random(g[\"dimensions\"]) * 2 ** g[\"level\"]\n",
    "\n",
    "ds = yt.load_amr_grids(grid_data, [32, 32, 32])"
   ]
  },
  {
   "cell_type": "markdown",
   "metadata": {},
   "source": [
    "Beautiful! Let's plot it."
   ]
  },
  {
   "cell_type": "code",
   "execution_count": null,
   "metadata": {},
   "outputs": [],
   "source": [
    "plot = yt.ProjectionPlot(ds,'z','density')\n",
    "plot.annotate_grids()\n",
    "plot.save('../figures/yt-rand.pdf')"
   ]
  },
  {
   "cell_type": "code",
   "execution_count": null,
   "metadata": {},
   "outputs": [],
   "source": []
  }
 ],
 "metadata": {
  "kernelspec": {
   "display_name": "Python 3",
   "language": "python",
   "name": "python3"
  },
  "language_info": {
   "codemirror_mode": {
    "name": "ipython",
    "version": 3
   },
   "file_extension": ".py",
   "mimetype": "text/x-python",
   "name": "python",
   "nbconvert_exporter": "python",
   "pygments_lexer": "ipython3",
   "version": "3.6.4"
  }
 },
 "nbformat": 4,
 "nbformat_minor": 2
}
