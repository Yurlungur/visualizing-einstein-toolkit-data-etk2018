{
 "cells": [
  {
   "cell_type": "markdown",
   "metadata": {},
   "source": [
    "# Inspecting Your Data in Python, Part 1: Uniform Curvilinear Grids\n",
    "\n",
    "In this notebook, we open a GRMHD simulation run on a uniform curvilinear grid in Python and inspect the structure of the data. We show how this can give you insight into what the data is doing and how you can make some simple plots."
   ]
  },
  {
   "cell_type": "markdown",
   "metadata": {},
   "source": [
    "## Matplotlib and h5py\n",
    "\n",
    "### HDF5\n",
    "\n",
    "HDF5 is an output library. It supports outputting in serial or in parallel. It spits out compact (even compressed!) binary data and it is self-describing. A single file can have many datasets, and even a whole internal directory structure. It has a convenient Python API. It's a common output format used by the Einstein Toolkit and I highly recomend you get familiar with it.\n",
    "\n",
    "### Matplotlib\n",
    "\n",
    "Matplotlib is just an excellent plotting library in Python."
   ]
  },
  {
   "cell_type": "code",
   "execution_count": 1,
   "metadata": {
    "collapsed": true
   },
   "outputs": [],
   "source": [
    "%matplotlib inline\n",
    "import h5py\n",
    "import numpy as np\n",
    "from matplotlib import pyplot as plt"
   ]
  },
  {
   "cell_type": "markdown",
   "metadata": {},
   "source": [
    "## Loading your data\n",
    "\n",
    "Here I have prepared two files for you. One contains the coordinate data describing the grid the simulation was run on. The other contains a number of interesting physical quantities. I could leave this data on disk (if it was too large to load into memory or if I wanted to exploit parallelism). But instead, I'll just open the files, read the data in, and then close the files.\n",
    "\n",
    "Each dataset in the hdf5 file has a name, which I'm storing as the key in a dictionary."
   ]
  },
  {
   "cell_type": "code",
   "execution_count": 7,
   "metadata": {
    "collapsed": true
   },
   "outputs": [],
   "source": [
    "grid = {}\n",
    "with h5py.File('harmdisk2d/grid.h5','r') as f:\n",
    "    for k,v in f.items():\n",
    "        grid[k] = v.value\n",
    "data = {}\n",
    "with h5py.File('harmdisk2d/data.h5','r') as f:\n",
    "    for k,v in f.items():\n",
    "        data[k] = v.value"
   ]
  },
  {
   "cell_type": "markdown",
   "metadata": {},
   "source": [
    "Let's look at what we have"
   ]
  },
  {
   "cell_type": "code",
   "execution_count": 12,
   "metadata": {},
   "outputs": [
    {
     "data": {
      "text/plain": [
       "['Lambda_bl2cart_con',\n",
       " 'Lambda_bl2cart_cov',\n",
       " 'Lambda_h2bl_con',\n",
       " 'Lambda_h2bl_cov',\n",
       " 'Lambda_h2cart_con',\n",
       " 'Lambda_h2cart_cov',\n",
       " 'XFcart',\n",
       " 'XFharm',\n",
       " 'Xbl',\n",
       " 'Xcart',\n",
       " 'Xharm',\n",
       " 'alpha',\n",
       " 'gcon',\n",
       " 'gcov',\n",
       " 'gdet']"
      ]
     },
     "execution_count": 12,
     "metadata": {},
     "output_type": "execute_result"
    }
   ],
   "source": [
    "list(grid.keys())"
   ]
  },
  {
   "cell_type": "code",
   "execution_count": 13,
   "metadata": {},
   "outputs": [
    {
     "data": {
      "text/plain": [
       "['ENT',\n",
       " 'L_unit',\n",
       " 'M_unit',\n",
       " 'Mbh',\n",
       " 'N1tot',\n",
       " 'N2tot',\n",
       " 'N3tot',\n",
       " 'PRESS',\n",
       " 'RHO_unit',\n",
       " 'Reh',\n",
       " 'Rout',\n",
       " 'Rout_vis',\n",
       " 'TEMP',\n",
       " 'TEMP_unit',\n",
       " 'T_unit',\n",
       " 'U_unit',\n",
       " 'a',\n",
       " 'cour',\n",
       " 'dt',\n",
       " 'dx[1]',\n",
       " 'dx[2]',\n",
       " 'dx[3]',\n",
       " 'mbh',\n",
       " 'startx[1]',\n",
       " 'startx[2]',\n",
       " 'startx[3]',\n",
       " 't',\n",
       " 'tf',\n",
       " 'version']"
      ]
     },
     "execution_count": 13,
     "metadata": {},
     "output_type": "execute_result"
    }
   ],
   "source": [
    "list(data.keys())"
   ]
  },
  {
   "cell_type": "markdown",
   "metadata": {},
   "source": [
    "You can investigate a variable now as a numpy array. For example:"
   ]
  },
  {
   "cell_type": "code",
   "execution_count": 15,
   "metadata": {},
   "outputs": [
    {
     "data": {
      "text/plain": [
       "(array([ 3.]),\n",
       " array([112], dtype=int32),\n",
       " array([112], dtype=int32),\n",
       " array([1], dtype=int32))"
      ]
     },
     "execution_count": 15,
     "metadata": {},
     "output_type": "execute_result"
    }
   ],
   "source": [
    "data['mbh'],data['N1tot'],data['N2tot'],data['N3tot']"
   ]
  },
  {
   "cell_type": "code",
   "execution_count": 16,
   "metadata": {},
   "outputs": [
    {
     "data": {
      "text/plain": [
       "array([[ 0.02398035,  0.02395611,  0.02392389,  0.0238833 ,  0.02383693,\n",
       "         0.02378612,  0.02372727,  0.02365689,  0.02357242,  0.02347589,\n",
       "         0.02335989,  0.02322777],\n",
       "       [ 0.01843062,  0.01841522,  0.01839717,  0.01837354,  0.01834161,\n",
       "         0.01830356,  0.01825713,  0.01820202,  0.01813658,  0.01805765,\n",
       "         0.0179665 ,  0.01785848],\n",
       "       [ 0.01400762,  0.01399931,  0.01398676,  0.01397116,  0.01395105,\n",
       "         0.013927  ,  0.01389786,  0.01386419,  0.0138267 ,  0.01378457,\n",
       "         0.01373317,  0.01367202],\n",
       "       [ 0.01041501,  0.01040995,  0.01040209,  0.01039151,  0.01037879,\n",
       "         0.01036408,  0.01034422,  0.01032318,  0.01029572,  0.01026496,\n",
       "         0.01022652,  0.01018305],\n",
       "       [ 0.00760256,  0.00759854,  0.00759234,  0.00758409,  0.00757365,\n",
       "         0.00756011,  0.00754391,  0.00752429,  0.00750111,  0.00747272,\n",
       "         0.00743971,  0.00740112],\n",
       "       [ 0.00540303,  0.0053982 ,  0.00539235,  0.00538529,  0.00537701,\n",
       "         0.00536711,  0.00535522,  0.00534102,  0.00532427,  0.00530508,\n",
       "         0.00528328,  0.00525686],\n",
       "       [ 0.00373049,  0.00372885,  0.00372644,  0.00372329,  0.00371955,\n",
       "         0.00371468,  0.00370853,  0.00370081,  0.00369137,  0.0036804 ,\n",
       "         0.00366779,  0.00365327],\n",
       "       [ 0.00255589,  0.00255573,  0.00255586,  0.00255581,  0.00255565,\n",
       "         0.00255527,  0.00255398,  0.00255187,  0.00254871,  0.00254476,\n",
       "         0.00253978,  0.00253349],\n",
       "       [ 0.00174363,  0.00174349,  0.0017437 ,  0.00174432,  0.00174513,\n",
       "         0.00174604,  0.00174688,  0.00174749,  0.00174751,  0.00174682,\n",
       "         0.00174492,  0.00174209],\n",
       "       [ 0.00118386,  0.00118365,  0.00118374,  0.00118425,  0.001185  ,\n",
       "         0.00118602,  0.00118741,  0.00118906,  0.00119072,  0.00119244,\n",
       "         0.00119376,  0.001194  ],\n",
       "       [ 0.00078554,  0.00078525,  0.00078522,  0.00078578,  0.00078686,\n",
       "         0.00078817,  0.00078965,  0.00079148,  0.00079396,  0.00079675,\n",
       "         0.00079953,  0.00080209],\n",
       "       [ 0.00052636,  0.00052589,  0.00052525,  0.00052439,  0.00052344,\n",
       "         0.00052212,  0.00052043,  0.00051869,  0.0005172 ,  0.00051586,\n",
       "         0.00051465,  0.00051341]], dtype=float32)"
      ]
     },
     "execution_count": 16,
     "metadata": {},
     "output_type": "execute_result"
    }
   ],
   "source": [
    "data['PRESS'][56:68,56:68,0]"
   ]
  },
  {
   "cell_type": "markdown",
   "metadata": {},
   "source": [
    "### Exercise\n",
    "\n",
    "Explore the data and see what information you can extract about what this simulation was and what the parameters of it were."
   ]
  },
  {
   "cell_type": "markdown",
   "metadata": {},
   "source": [
    "## Simple Plots\n",
    "\n",
    "Matplotlib can create simple 2D heatmaps with Cartesian topology fairly easily. This simulation was run with curvilinear coordinates, however. So if we want to use this feature, we either need to do some work, or we need to plot in $r,\\theta$ coordinates:"
   ]
  },
  {
   "cell_type": "code",
   "execution_count": 25,
   "metadata": {},
   "outputs": [
    {
     "data": {
      "text/plain": [
       "Text(0,0.5,'$\\\\theta$')"
      ]
     },
     "execution_count": 25,
     "metadata": {},
     "output_type": "execute_result"
    },
    {
     "data": {
      "image/png": "[encoded data removed]",
      "text/plain": [
       "<Figure size 432x288 with 1 Axes>"
      ]
     },
     "metadata": {},
     "output_type": "display_data"
    }
   ],
   "source": [
    "r = grid['Xbl'][:,:,0,1]\n",
    "theta = grid['Xbl'][:,:,0,2]\n",
    "P = data['PRESS'][:,:,0]\n",
    "plt.pcolor(r,theta,P)\n",
    "plt.xlim(0,50)\n",
    "plt.xlabel(r'$r/M$')\n",
    "plt.ylabel(r'$\\theta$')"
   ]
  },
  {
   "cell_type": "markdown",
   "metadata": {},
   "source": [
    "### Exercise\n",
    "\n",
    "Can you use the data available in these files to generate a 2D plot in Cartesian coordinates?"
   ]
  },
  {
   "cell_type": "code",
   "execution_count": null,
   "metadata": {
    "collapsed": true
   },
   "outputs": [],
   "source": []
  }
 ],
 "metadata": {
  "kernelspec": {
   "display_name": "Python 3",
   "language": "python",
   "name": "python3"
  },
  "language_info": {
   "codemirror_mode": {
    "name": "ipython",
    "version": 3
   },
   "file_extension": ".py",
   "mimetype": "text/x-python",
   "name": "python",
   "nbconvert_exporter": "python",
   "pygments_lexer": "ipython3",
   "version": "3.6.5"
  }
 },
 "nbformat": 4,
 "nbformat_minor": 2
}
