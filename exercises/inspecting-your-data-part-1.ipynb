{
 "cells": [
  {
   "cell_type": "markdown",
   "metadata": {},
   "source": [
    "# Inspecting Your Data in Python, Part 1: Uniform Curvilinear Grids\n",
    "\n",
    "In this notebook, we open a GRMHD simulation run on a uniform curvilinear grid in Python and inspect the structure of the data. We show how this can give you insight into what the data is doing and how you can make some simple plots."
   ]
  },
  {
   "cell_type": "markdown",
   "metadata": {},
   "source": [
    "## Matplotlib and h5py\n",
    "\n",
    "### HDF5\n",
    "\n",
    "HDF5 is an output library. It supports outputting in serial or in parallel. It spits out compact (even compressed!) binary data and it is self-describing. A single file can have many datasets, and even a whole internal directory structure. It has a convenient Python API. It's a common output format used by the Einstein Toolkit and I highly recomend you get familiar with it.\n",
    "\n",
    "### Matplotlib\n",
    "\n",
    "Matplotlib is just an excellent plotting library in Python."
   ]
  },
  {
   "cell_type": "code",
   "execution_count": null,
   "metadata": {
    "collapsed": true
   },
   "outputs": [],
   "source": [
    "%matplotlib inline\n",
    "import h5py\n",
    "import numpy as np\n",
    "from matplotlib import pyplot as plt\n",
    "mpl.rcParams.update({'font.size':18})"
   ]
  },
  {
   "cell_type": "markdown",
   "metadata": {},
   "source": [
    "## Loading your data\n",
    "\n",
    "Here I have prepared two files for you. One contains the coordinate data describing the grid the simulation was run on. The other contains a number of interesting physical quantities. I could leave this data on disk (if it was too large to load into memory or if I wanted to exploit parallelism). But instead, I'll just open the files, read the data in, and then close the files.\n",
    "\n",
    "Each dataset in the hdf5 file has a name, which I'm storing as the key in a dictionary."
   ]
  },
  {
   "cell_type": "code",
   "execution_count": null,
   "metadata": {
    "collapsed": true
   },
   "outputs": [],
   "source": [
    "grid = {}\n",
    "with h5py.File('harmdisk2d/grid.h5','r') as f:\n",
    "    for k,v in f.items():\n",
    "        grid[k] = v.value\n",
    "data = {}\n",
    "with h5py.File('harmdisk2d/data.h5','r') as f:\n",
    "    for k,v in f.items():\n",
    "        data[k] = v.value"
   ]
  },
  {
   "cell_type": "markdown",
   "metadata": {},
   "source": [
    "Let's look at what we have"
   ]
  },
  {
   "cell_type": "code",
   "execution_count": null,
   "metadata": {},
   "outputs": [],
   "source": [
    "list(grid.keys())"
   ]
  },
  {
   "cell_type": "code",
   "execution_count": null,
   "metadata": {},
   "outputs": [],
   "source": [
    "list(data.keys())"
   ]
  },
  {
   "cell_type": "markdown",
   "metadata": {},
   "source": [
    "You can investigate a variable now as a numpy array. For example:"
   ]
  },
  {
   "cell_type": "code",
   "execution_count": null,
   "metadata": {},
   "outputs": [],
   "source": [
    "data['mbh'],data['N1tot'],data['N2tot'],data['N3tot']"
   ]
  },
  {
   "cell_type": "code",
   "execution_count": null,
   "metadata": {},
   "outputs": [],
   "source": [
    "data['PRESS'][56:68,56:68,0]"
   ]
  },
  {
   "cell_type": "markdown",
   "metadata": {},
   "source": [
    "### Exercise\n",
    "\n",
    "Explore the data and see what information you can extract about what this simulation was and what the parameters of it were."
   ]
  },
  {
   "cell_type": "markdown",
   "metadata": {},
   "source": [
    "## Simple Plots\n",
    "\n",
    "Matplotlib can create simple 2D heatmaps with Cartesian topology fairly easily. This simulation was run with curvilinear coordinates, however. So if we want to use this feature, we either need to do some work, or we need to plot in $r,\\theta$ coordinates:"
   ]
  },
  {
   "cell_type": "code",
   "execution_count": null,
   "metadata": {},
   "outputs": [],
   "source": [
    "r = grid['Xbl'][:,:,0,1]\n",
    "theta = grid['Xbl'][:,:,0,2]\n",
    "P = data['PRESS'][:,:,0]*data['U_unit']/1e28\n",
    "plt.pcolor(r,theta,P)\n",
    "cbar = plt.colorbar()\n",
    "cbar.set_label(r'$10^{28}\\times$ Pressure (cgs)')\n",
    "plt.xlim(0,50)\n",
    "plt.xlabel(r'$r/r_g$')\n",
    "plt.ylabel(r'$\\theta$')\n",
    "plt.savefig('../figures/harmdisk2d.pdf',bbox_inches='tight')"
   ]
  },
  {
   "cell_type": "markdown",
   "metadata": {},
   "source": [
    "### Exercise\n",
    "\n",
    "Can you use the data available in these files to generate a 2D plot in Cartesian coordinates?"
   ]
  },
  {
   "cell_type": "code",
   "execution_count": null,
   "metadata": {
    "collapsed": true
   },
   "outputs": [],
   "source": []
  }
 ],
 "metadata": {
  "kernelspec": {
   "display_name": "Python 3",
   "language": "python",
   "name": "python3"
  },
  "language_info": {
   "codemirror_mode": {
    "name": "ipython",
    "version": 3
   },
   "file_extension": ".py",
   "mimetype": "text/x-python",
   "name": "python",
   "nbconvert_exporter": "python",
   "pygments_lexer": "ipython3",
   "version": "3.6.5"
  }
 },
 "nbformat": 4,
 "nbformat_minor": 2
}
